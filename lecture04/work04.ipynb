{
 "cells": [
  {
   "cell_type": "code",
   "execution_count": null,
   "id": "f1afe127-f749-4d66-94f6-def51a11606a",
   "metadata": {},
   "outputs": [],
   "source": [
    "\n",
    "# ] add DelimitedFiles\n",
    "using DelimitedFiles"
   ]
  },
  {
   "cell_type": "code",
   "execution_count": null,
   "id": "1e77dcf7-ec05-4a9c-916d-7fb9bfabd74f",
   "metadata": {},
   "outputs": [],
   "source": [
    "\n",
    "url = \"https://www.phys.uconn.edu/~rozman/Courses/P2200_25F/downloads/trinity-test.data\""
   ]
  },
  {
   "cell_type": "code",
   "execution_count": null,
   "id": "d0acd236-7d2b-4e2a-8bc5-dc2dccd22546",
   "metadata": {},
   "outputs": [],
   "source": [
    "\n",
    "obsevations = download(url)"
   ]
  },
  {
   "cell_type": "code",
   "execution_count": null,
   "id": "d6a1b880-c0b7-404f-a1c1-72217f60da59",
   "metadata": {},
   "outputs": [],
   "source": [
    "\n",
    "dat = readdlm(obsevations, comments=true, comment_char='#')"
   ]
  },
  {
   "cell_type": "code",
   "execution_count": null,
   "id": "720a94bd-3d8f-4873-b296-0288f872a204",
   "metadata": {},
   "outputs": [],
   "source": [
    "\n",
    "time = dat[:, 1]"
   ]
  },
  {
   "cell_type": "code",
   "execution_count": null,
   "id": "3eccfd82-4070-48c2-b9dd-ec06214ea89e",
   "metadata": {},
   "outputs": [],
   "source": [
    "\n",
    "radius = dat[:, 2]"
   ]
  },
  {
   "cell_type": "code",
   "execution_count": null,
   "id": "92425e31-2a1b-47c3-8c5b-c941ae359069",
   "metadata": {},
   "outputs": [],
   "source": [
    "\n",
    "using PyPlot"
   ]
  },
  {
   "cell_type": "markdown",
   "id": "46187d02-4924-4124-9766-f343143b3690",
   "metadata": {},
   "source": [
    "#### \"Bad\" plot:"
   ]
  },
  {
   "cell_type": "code",
   "execution_count": null,
   "id": "6c08f006-2b1e-41f9-bdad-8bec8b754215",
   "metadata": {},
   "outputs": [],
   "source": [
    "\n",
    "plot(time, radius);"
   ]
  },
  {
   "cell_type": "markdown",
   "id": "96ad6eab-18d9-418a-a972-df85a3d3dc90",
   "metadata": {},
   "source": [
    "#### \"Good\" plot:"
   ]
  },
  {
   "cell_type": "code",
   "execution_count": null,
   "id": "ca10ad5c-2eaf-4d19-b702-eb2894cbbccc",
   "metadata": {},
   "outputs": [],
   "source": [
    "\n",
    "loglog(time, radius, \"bo\", label=\"measuments\")\n",
    "grid(true)\n",
    "xlabel(\"time\")\n",
    "ylabel(\"radius\")\n",
    "legend()\n",
    "title(\"Trinity test data\");"
   ]
  },
  {
   "cell_type": "code",
   "execution_count": null,
   "id": "85a7da56-9465-420c-b6d0-6e76423802ef",
   "metadata": {},
   "outputs": [],
   "source": [
    "\n",
    "nm = length(time[3:end]) # the numbed of used data points"
   ]
  },
  {
   "cell_type": "code",
   "execution_count": null,
   "id": "59de3d56-baf6-4e15-a194-534e71820636",
   "metadata": {},
   "outputs": [],
   "source": [
    "\n",
    "tlogbar = sum(log.(time[3:end]))/nm"
   ]
  },
  {
   "cell_type": "code",
   "execution_count": null,
   "id": "e67d3753-f90d-4b3e-a70c-bf0e042f5eba",
   "metadata": {},
   "outputs": [],
   "source": [
    "\n",
    "rlogbar = sum(log.(radius[3:end]))/nm"
   ]
  },
  {
   "cell_type": "code",
   "execution_count": null,
   "id": "e2257f00-083c-4dfd-86e6-e97950d3891a",
   "metadata": {},
   "outputs": [],
   "source": [
    "\n",
    "alphalogbar = rlogbar - 2/5*tlogbar"
   ]
  },
  {
   "cell_type": "code",
   "execution_count": null,
   "id": "cab325e3-f987-4969-922e-25a12f40559a",
   "metadata": {},
   "outputs": [],
   "source": [
    "\n",
    "const scale = 1.0e6   # Extra factor due to measuring time in ms\n",
    "const rho = 1.2       # Density of air in kg/m^3 at T = 20 C\n",
    "const tnt = 4.184e12; # J per 1 kt of TNT"
   ]
  },
  {
   "cell_type": "code",
   "execution_count": null,
   "id": "7a210684-0b83-49f3-822e-3c90412536b8",
   "metadata": {},
   "outputs": [],
   "source": [
    "\n",
    "alpha = exp(alphalogbar)\n",
    "println(\"α = $(round(alpha, sigdigits=4))\")"
   ]
  },
  {
   "cell_type": "code",
   "execution_count": null,
   "id": "1e3108ea-642d-48ff-9805-a74bd448c425",
   "metadata": {},
   "outputs": [],
   "source": [
    "\n",
    "energyJ = scale * alpha^5 * rho \n",
    "println(\"E = $(round(energyJ, sigdigits=3)) Joules\")"
   ]
  },
  {
   "cell_type": "code",
   "execution_count": null,
   "id": "4095280b-ad69-44b6-935c-029cbd81cf1a",
   "metadata": {},
   "outputs": [],
   "source": [
    "\n",
    "energyT = energyJ / tnt  # Equivalent amount of TNT in kilotons\n",
    "println(\"E = $(round(energyT, sigdigits=3)) kilotons of TNT\")"
   ]
  },
  {
   "cell_type": "code",
   "execution_count": null,
   "id": "90a891ca-73c7-4bd4-9e22-889d2bf15f04",
   "metadata": {},
   "outputs": [],
   "source": [
    "\n",
    "rad(u, al) = al * u^(2/5);"
   ]
  },
  {
   "cell_type": "markdown",
   "id": "4dcf93f8-3079-4dc2-9f47-ad91f5590ea7",
   "metadata": {},
   "source": [
    "#### Plot the observational data and the results of the best fit on the same graph"
   ]
  },
  {
   "cell_type": "code",
   "execution_count": null,
   "id": "61b07e22-82cb-4bb6-82a3-b12552630e28",
   "metadata": {},
   "outputs": [],
   "source": [
    "\n",
    "loglog(time, radius, \"bo\", label=\"measuments\")\n",
    "loglog(time, rad.(time, alpha), \"-\", label=\"theory\")\n",
    "grid(true)\n",
    "xlabel(\"time\")\n",
    "ylabel(\"radius\")\n",
    "legend()\n",
    "title(\"Trinity test data\");"
   ]
  },
  {
   "cell_type": "code",
   "execution_count": null,
   "id": "747298f0-2bc1-4f88-8eba-d102500e3305",
   "metadata": {},
   "outputs": [],
   "source": []
  }
 ],
 "metadata": {
  "kernelspec": {
   "display_name": "Julia 1.11.6",
   "language": "julia",
   "name": "julia-1.11"
  },
  "language_info": {
   "file_extension": ".jl",
   "mimetype": "application/julia",
   "name": "julia",
   "version": "1.11.6"
  }
 },
 "nbformat": 4,
 "nbformat_minor": 5
}
