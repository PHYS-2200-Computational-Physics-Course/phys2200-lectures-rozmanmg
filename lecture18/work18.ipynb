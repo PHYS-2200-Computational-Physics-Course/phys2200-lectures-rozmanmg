{
 "cells": [
  {
   "cell_type": "markdown",
   "id": "b32d510b-e3ae-4566-a68b-922396479508",
   "metadata": {},
   "source": [
    "## White dwarfs"
   ]
  },
  {
   "cell_type": "code",
   "execution_count": null,
   "id": "ac658be0-96a8-4a6c-81ad-58ccdc8030ee",
   "metadata": {},
   "outputs": [],
   "source": [
    "\n",
    "url = \"https://cdsarc.u-strasbg.fr/viz-bin/asu-tsv?-source=J/A+A/420/507/tablea1&-out=Mass&-out=Rad\""
   ]
  },
  {
   "cell_type": "code",
   "execution_count": null,
   "id": "c82924e4-4433-4892-b9b2-e48aea78e81d",
   "metadata": {},
   "outputs": [],
   "source": [
    "\n",
    "catalog = download(url)"
   ]
  },
  {
   "cell_type": "code",
   "execution_count": null,
   "id": "8bdc59b4-4887-4b92-b63b-0e45c4bf0fa5",
   "metadata": {},
   "outputs": [],
   "source": [
    "\n",
    "using CSV\n",
    "using DataFrames"
   ]
  },
  {
   "cell_type": "code",
   "execution_count": null,
   "id": "08ff296f-b71d-46f8-81d2-04f5eda910ee",
   "metadata": {},
   "outputs": [],
   "source": [
    "\n",
    "df = CSV.read(catalog, DataFrame, comment=\"#\", skipto=4, \n",
    "              types=[Float64, Float64], delim='\\t', ignorerepeated=true, \n",
    "              silencewarnings=true)"
   ]
  },
  {
   "cell_type": "code",
   "execution_count": null,
   "id": "1cab000f-c2a6-4b70-b0c4-d623dcb9c0ef",
   "metadata": {},
   "outputs": [],
   "source": [
    "\n",
    "dropmissing!(df)"
   ]
  },
  {
   "cell_type": "code",
   "execution_count": null,
   "id": "de4e65f8-1c3c-4aa6-bfce-7bc2cedaff49",
   "metadata": {},
   "outputs": [],
   "source": [
    "\n",
    "using PyPlot"
   ]
  },
  {
   "cell_type": "code",
   "execution_count": null,
   "id": "df4a7539-24f4-4f3c-b217-4525235794ae",
   "metadata": {},
   "outputs": [],
   "source": [
    "\n",
    "plot(df.Mass, df.Rad, marker=\"o\", linestyle=\"none\", \n",
    "     fillstyle=\"none\", markersize=4, label=\"observations\")\n",
    "grid(true)\n",
    "xlabel(L\"$M/M_{\\odot}$\")\n",
    "ylabel(L\"$R/R_{\\odot}$\")\n",
    "legend()\n",
    "title(\"Observational data for white dwarf stars\")"
   ]
  },
  {
   "cell_type": "code",
   "execution_count": null,
   "id": "de414d9f-63a9-4667-88cc-1de91fe9a930",
   "metadata": {},
   "outputs": [],
   "source": []
  }
 ],
 "metadata": {
  "kernelspec": {
   "display_name": "Julia 1.11.6",
   "language": "julia",
   "name": "julia-1.11"
  },
  "language_info": {
   "file_extension": ".jl",
   "mimetype": "application/julia",
   "name": "julia",
   "version": "1.11.6"
  }
 },
 "nbformat": 4,
 "nbformat_minor": 5
}
