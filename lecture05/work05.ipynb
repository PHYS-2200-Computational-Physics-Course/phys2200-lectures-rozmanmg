{
 "cells": [
  {
   "cell_type": "code",
   "execution_count": null,
   "id": "5baec308-f765-4d81-81c0-ada21cfdcc31",
   "metadata": {},
   "outputs": [],
   "source": [
    "\n",
    "\"\"\"\n",
    "    myfib(n)\n",
    "\n",
    "Calculate Fibonacci number F_n using the recurrence relation\n",
    "F_1 = 1, F_2 = 1, and F_n = F_n-1 + F_n-2 for n > 2.\n",
    "\"\"\"\n",
    "function myfib(n)\n",
    "    fc = 1\n",
    "    if n == 1\n",
    "        return fc\n",
    "    end\n",
    "end"
   ]
  },
  {
   "cell_type": "code",
   "execution_count": null,
   "id": "49884960-941b-41ed-b01d-78cc3a65ce1f",
   "metadata": {},
   "outputs": [],
   "source": [
    "?myfib"
   ]
  },
  {
   "cell_type": "code",
   "execution_count": null,
   "id": "eb821ac9-b2d9-49da-8c09-c38643e11678",
   "metadata": {},
   "outputs": [],
   "source": [
    "myfib(1)"
   ]
  },
  {
   "cell_type": "code",
   "execution_count": null,
   "id": "0304fe59-42b4-49e6-8c7d-f64de53b7f43",
   "metadata": {},
   "outputs": [],
   "source": []
  }
 ],
 "metadata": {
  "kernelspec": {
   "display_name": "Julia 1.11.6",
   "language": "julia",
   "name": "julia-1.11"
  },
  "language_info": {
   "file_extension": ".jl",
   "mimetype": "application/julia",
   "name": "julia",
   "version": "1.11.6"
  }
 },
 "nbformat": 4,
 "nbformat_minor": 5
}
