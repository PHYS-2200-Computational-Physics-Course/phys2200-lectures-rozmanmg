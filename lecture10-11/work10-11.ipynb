{
 "cells": [
  {
   "cell_type": "markdown",
   "id": "2c343b86-61b5-4cdf-bab8-deed193f8ecd",
   "metadata": {},
   "source": [
    "\n",
    "## Richardson extrapolation for summation of series"
   ]
  },
  {
   "cell_type": "code",
   "execution_count": null,
   "id": "0dce3d0d-805d-431f-ac72-a33ad709ff9d",
   "metadata": {},
   "outputs": [],
   "source": [
    "\n",
    "\"\"\"\n",
    "    s = mybasel(N)\n",
    "\n",
    "Calculate finite Basel sum\n",
    "\"\"\"\n",
    "function mybasel(N)\n",
    "    s = 0.0\n",
    "    for n = 1:N\n",
    "        s += 1/n^2\n",
    "    end\n",
    "    return s\n",
    "end"
   ]
  },
  {
   "cell_type": "code",
   "execution_count": null,
   "id": "038b795e-be61-43fb-913a-c3165e10054b",
   "metadata": {},
   "outputs": [],
   "source": [
    "\n",
    "round(abs(mybasel(2000) - pi^2/6), sigdigits=1)"
   ]
  },
  {
   "cell_type": "code",
   "execution_count": null,
   "id": "a854eeb4-6a95-460f-9ce9-050e2286e894",
   "metadata": {},
   "outputs": [],
   "source": [
    "\n",
    "function myrichardson(N)\n",
    "    s1 = mybasel(N)\n",
    "    s2 = mybasel(2*N)\n",
    "    return 2*s2 - s1\n",
    "end"
   ]
  },
  {
   "cell_type": "code",
   "execution_count": null,
   "id": "fec1b4eb-a61e-403f-a49d-f2857fd139fa",
   "metadata": {},
   "outputs": [],
   "source": [
    "\n",
    "round(abs(myrichardson(1000) - pi^2/6), sigdigits=1)"
   ]
  },
  {
   "cell_type": "code",
   "execution_count": null,
   "id": "859c81a9-7b0d-4ba8-8265-22b9b96ff5da",
   "metadata": {},
   "outputs": [],
   "source": [
    "\n",
    "round(abs(mybasel(5000000) - pi^2/6), sigdigits=1)"
   ]
  },
  {
   "cell_type": "markdown",
   "id": "845b449d-001b-47e4-9476-b6b14820ffb1",
   "metadata": {},
   "source": [
    "\n",
    "## Adaptive integrator in Julia"
   ]
  },
  {
   "cell_type": "code",
   "execution_count": null,
   "id": "d781d0ec-5440-4b87-b278-9ce6dd1b636b",
   "metadata": {},
   "outputs": [],
   "source": [
    "] add QuadGK"
   ]
  },
  {
   "cell_type": "code",
   "execution_count": null,
   "id": "38fc65f1-7a1d-4939-ab12-0d406bd2efdd",
   "metadata": {},
   "outputs": [],
   "source": [
    "\n",
    "using QuadGK"
   ]
  },
  {
   "cell_type": "code",
   "execution_count": null,
   "id": "36848886-3589-4b2e-abae-7652a29fe88c",
   "metadata": {},
   "outputs": [],
   "source": [
    "\n",
    "fun1(x) = 1/sqrt(x)"
   ]
  },
  {
   "cell_type": "code",
   "execution_count": null,
   "id": "fb4d5a79-9a81-42ed-ba7b-3d228aa76091",
   "metadata": {},
   "outputs": [],
   "source": [
    "\n",
    "round(quadgk(fun1, 0, 1)[1], sigdigits=5)"
   ]
  },
  {
   "cell_type": "code",
   "execution_count": null,
   "id": "12ec39d5-eca2-4da7-bf59-a2324fcb3ace",
   "metadata": {},
   "outputs": [],
   "source": [
    "\n",
    "fun2(x) = exp(-x) * log(x)"
   ]
  },
  {
   "cell_type": "code",
   "execution_count": null,
   "id": "ba327c18-060d-4a63-8443-e78450a9d594",
   "metadata": {},
   "outputs": [],
   "source": [
    "\n",
    "quadgk(fun2, 0, Inf)"
   ]
  },
  {
   "cell_type": "markdown",
   "id": "9f068d90-9f0e-4f81-8879-0c0879b277ba",
   "metadata": {},
   "source": [
    "\n",
    "## Euler's method for IVP"
   ]
  },
  {
   "cell_type": "code",
   "execution_count": null,
   "id": "ede2fbd7-b378-4521-a23c-2ac7096db4fd",
   "metadata": {},
   "outputs": [],
   "source": [
    "\"\"\"\n",
    "    t, y = myeulers(fun, a, b, n, y1)\n",
    "\n",
    "Solve IVP y' = fun(t, y), a <= t <= b, y(a) = y1 using Euler's method.\n",
    "Use the integration step h = (b - a)/(n - 1). Return a vector of values\n",
    "of the independent variable t_i, and a vector of correspondinig values\n",
    "of the solution, y(t_i)\n",
    "\"\"\"\n",
    "function myeulers(fun, a, b, n, y1)\n",
    "    t = range(a, b, n)\n",
    "    y = zeros(n)\n",
    "    h = t[2] - t[1]\n",
    "    y[1] = y1\n",
    "    for i = 1:(n-1)\n",
    "        y[i+1] = y[i] + h * fun(t[i], y[i])\n",
    "    end\n",
    "    return t, y\n",
    "end"
   ]
  },
  {
   "cell_type": "code",
   "execution_count": null,
   "id": "66ef2765-9825-4dfb-841e-c7d6b0cc387f",
   "metadata": {},
   "outputs": [],
   "source": [
    "\n",
    "a = 0.0\n",
    "b = 5.0\n",
    "n = 64\n",
    "y1 = 0.0\n",
    "fun(t, y) = exp(-sin(t)) - y * cos(t)\n",
    "yexact(t) = t * exp(-sin(t))"
   ]
  },
  {
   "cell_type": "code",
   "execution_count": null,
   "id": "2b66680b-029f-46a2-85ff-d3ecb772599b",
   "metadata": {},
   "outputs": [],
   "source": [
    "\n",
    "t, y = myeulers(fun, a, b, n, y1);"
   ]
  },
  {
   "cell_type": "code",
   "execution_count": null,
   "id": "d2cc6cb2-0903-416c-a0b0-a4f4a8f42702",
   "metadata": {},
   "outputs": [],
   "source": [
    "\n",
    "using PyPlot"
   ]
  },
  {
   "cell_type": "code",
   "execution_count": null,
   "id": "4c4dd1a4-76a6-4cfa-b5af-83e4b6c97e64",
   "metadata": {},
   "outputs": [],
   "source": [
    "\n",
    "plot(t, y, label=\"Euler's method\", marker=\".\")\n",
    "plot(t, yexact.(t), label=\"Exact solution\", linestyle=\"dashed\")\n",
    "legend()\n",
    "xlabel(\"t\")\n",
    "ylabel(\"y(t)\")\n",
    "title(\"Euler's method solution of IVP\")\n",
    "grid(true)"
   ]
  },
  {
   "cell_type": "code",
   "execution_count": null,
   "id": "c268980d-9c07-46f6-a287-c376eed5fa96",
   "metadata": {},
   "outputs": [],
   "source": [
    "\n",
    "np = 9\n",
    "hh = zeros(np)\n",
    "gerr = zeros(np)\n",
    "\n",
    "for i = 1:np\n",
    "    n = 2^(i+3)\n",
    "    t, y = myeulers(fun, a, b, n, y1)\n",
    "    hh[i] = t[2] - t[1]\n",
    "    gerr[i] = abs(yexact(b) - y[end])\n",
    "end"
   ]
  },
  {
   "cell_type": "code",
   "execution_count": null,
   "id": "8936d8d6-1a51-407b-8c9e-d42164a69020",
   "metadata": {},
   "outputs": [],
   "source": [
    "\n",
    "loglog(hh, gerr, marker=\".\", label=\"numerical experiment\")\n",
    "loglog(hh, hh, linestyle=\"dashed\", label=L\"h\")\n",
    "loglog(hh, hh.^2, linestyle=\"dashed\", label=L\"h^2\")\n",
    "loglog(hh, hh.^3, linestyle=\"dashed\", label=L\"h^3\")\n",
    "grid(true)\n",
    "title(\"Global error of the Euler's method\")\n",
    "legend()\n",
    "xlabel(\"integration step\")\n",
    "ylabel(\"global error\");"
   ]
  },
  {
   "cell_type": "code",
   "execution_count": null,
   "id": "7b3c01a2-0476-46fa-96c2-2d34fbf42bbd",
   "metadata": {},
   "outputs": [],
   "source": []
  }
 ],
 "metadata": {
  "kernelspec": {
   "display_name": "Julia 1.11.6",
   "language": "julia",
   "name": "julia-1.11"
  },
  "language_info": {
   "file_extension": ".jl",
   "mimetype": "application/julia",
   "name": "julia",
   "version": "1.11.6"
  }
 },
 "nbformat": 4,
 "nbformat_minor": 5
}
