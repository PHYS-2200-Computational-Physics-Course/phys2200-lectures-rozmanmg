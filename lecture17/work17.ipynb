{
 "cells": [
  {
   "cell_type": "markdown",
   "id": "4b6d5cdb-1695-4772-b24b-47443df13885",
   "metadata": {},
   "source": [
    "\n",
    "# Hubble law"
   ]
  },
  {
   "cell_type": "code",
   "execution_count": null,
   "id": "f1d86f3c-f184-430f-a4f2-933bfbb7a7f1",
   "metadata": {},
   "outputs": [],
   "source": [
    "\n",
    "using CSV\n",
    "using DataFrames\n",
    "using PyPlot"
   ]
  },
  {
   "cell_type": "code",
   "execution_count": null,
   "id": "23c221f1-a82e-4a44-aeab-922f7cab0ba2",
   "metadata": {},
   "outputs": [],
   "source": [
    "\n",
    "# url = \"https://vizier.u-strasbg.fr/viz-bin/asu-txt?-source=J/ApJ/716/712/tableb2&-out=SN&-out=zCMB&-out=mu\"\n",
    "url = \"https://cdsarc.u-strasbg.fr/viz-bin/asu-txt?-source=J/ApJ/716/712/tableb2&-out=SN&-out=zCMB&-out=mu\""
   ]
  },
  {
   "cell_type": "code",
   "execution_count": null,
   "id": "8e2487f8-b34d-47f7-be41-fcfcc6080ce9",
   "metadata": {},
   "outputs": [],
   "source": [
    "\n",
    "catalog = download(url)"
   ]
  },
  {
   "cell_type": "code",
   "execution_count": null,
   "id": "273e97bd-575d-4d01-bef2-721ebbaecd47",
   "metadata": {},
   "outputs": [],
   "source": [
    "\n",
    "df = CSV.read(catalog, DataFrame, skipto=38, delim=' ', ignorerepeated=true,\n",
    "              types=[String, Float64, Float64], silencewarnings=true,\n",
    "              header=[\"name\", \"redshift\", \"modulus\"],)"
   ]
  },
  {
   "cell_type": "code",
   "execution_count": null,
   "id": "7f99e81f-d336-494e-bffd-d6b3e943b46b",
   "metadata": {},
   "outputs": [],
   "source": [
    "\n",
    "dropmissing!(df)"
   ]
  },
  {
   "cell_type": "code",
   "execution_count": null,
   "id": "f7c9b6c2-2d0e-4e5c-9ee6-0f79a1f09586",
   "metadata": {},
   "outputs": [],
   "source": [
    "\n",
    "filter!(row -> row.redshift < 0.04, df)"
   ]
  },
  {
   "cell_type": "code",
   "execution_count": null,
   "id": "287c5b43-16c3-46f6-9e15-7b329f574cd1",
   "metadata": {},
   "outputs": [],
   "source": [
    "\n",
    "dist(modulus) = 10.0 ^ (modulus / 5 - 5)"
   ]
  },
  {
   "cell_type": "code",
   "execution_count": null,
   "id": "3db0626b-705a-4cfb-be63-b1bd17998c26",
   "metadata": {},
   "outputs": [],
   "source": [
    "\n",
    "sort!(df, \"modulus\");"
   ]
  },
  {
   "cell_type": "code",
   "execution_count": null,
   "id": "721c2b13-f10c-4e67-890f-8d7e1602c09d",
   "metadata": {},
   "outputs": [],
   "source": [
    "\n",
    "df"
   ]
  },
  {
   "cell_type": "code",
   "execution_count": null,
   "id": "7e053f41-d075-4c03-8385-9f750c036ea8",
   "metadata": {},
   "outputs": [],
   "source": [
    "\n",
    "distances = dist.(df.modulus);"
   ]
  },
  {
   "cell_type": "code",
   "execution_count": null,
   "id": "78d2be85-e247-4f3a-954e-7e596f823a1f",
   "metadata": {},
   "outputs": [],
   "source": [
    "\n",
    "plot(distances, df.redshift, \".\", label=\"measurements\")\n",
    "grid(true)\n",
    "legend()\n",
    "ylabel(\"Red Shift\")\n",
    "xlabel(\"Distance (Mpc)\");"
   ]
  },
  {
   "cell_type": "code",
   "execution_count": null,
   "id": "5281f714-9aad-4bc3-b573-ec7a2de146ca",
   "metadata": {},
   "outputs": [],
   "source": [
    "\n",
    "\"\"\"\n",
    "   alpha, beta, sigma = linear_regression(x, y)\n",
    "\n",
    "Least square linear regression fit y = alpha + beta * x\n",
    "Sigma is standard deviation for beta\n",
    "\"\"\"\n",
    "function linear_regression(x, y)\n",
    "    n = length(x)\n",
    "    xbar = sum(x)/n\n",
    "    ybar = sum(y)/n\n",
    "    denom = sum((x .- xbar).^2)\n",
    "    beta = sum((x .- xbar).*(y .- ybar))/denom\n",
    "    alpha = ybar - beta*xbar\n",
    "    sigma = sqrt(sum((y .- alpha .- beta*x).^2)/((n - 2)*denom))\n",
    "    return alpha, beta, sigma\n",
    "end"
   ]
  },
  {
   "cell_type": "code",
   "execution_count": null,
   "id": "1c41dbaf-b3a5-45b8-913c-3e612fd85a5b",
   "metadata": {},
   "outputs": [],
   "source": [
    "\n",
    "alpha, beta, sigma = linear_regression(distances, df.redshift)"
   ]
  },
  {
   "cell_type": "code",
   "execution_count": null,
   "id": "0fbc54bc-6336-42cd-990f-db39d53fa307",
   "metadata": {},
   "outputs": [],
   "source": [
    "\n",
    "plot(distances, df.redshift, \".\", label=\"measurements\")\n",
    "plot(distances, alpha .+ beta*distances, label=\"LSq linear fit\")\n",
    "grid(true)\n",
    "legend()\n",
    "ylabel(\"Red Shift\")\n",
    "xlabel(\"Distance (Mpc)\");"
   ]
  },
  {
   "cell_type": "code",
   "execution_count": null,
   "id": "3c88aa69-3a7e-4145-b6df-9654ebc4c398",
   "metadata": {},
   "outputs": [],
   "source": [
    "\n",
    "const c = 300000.0  # speed of light, km/sec\n",
    "H0 = c * beta\n",
    "round(H0, digits=3)"
   ]
  },
  {
   "cell_type": "code",
   "execution_count": null,
   "id": "f1eef8cd-04f7-43ea-8ef8-2bd8e3885e24",
   "metadata": {},
   "outputs": [],
   "source": [
    "\n",
    "const mpc = 3.09e19     # 1 megaparsec in km\n",
    "h0 = H0 / mpc\n",
    "round(h0, sigdigits=3)"
   ]
  },
  {
   "cell_type": "code",
   "execution_count": null,
   "id": "f0e92cc8-5b84-4ed7-9122-abd27b5b1619",
   "metadata": {},
   "outputs": [],
   "source": [
    "\n",
    "Th = 1 / h0\n",
    "round(Th, sigdigits=3)"
   ]
  },
  {
   "cell_type": "code",
   "execution_count": null,
   "id": "79f23d45-cd99-4132-8e93-52fdb6a924bd",
   "metadata": {},
   "outputs": [],
   "source": [
    "\n",
    "round(Th/(60*60*24*365), sigdigits=2)"
   ]
  },
  {
   "cell_type": "code",
   "execution_count": null,
   "id": "1efd7a9a-fae0-441c-8da5-b0705666f6fc",
   "metadata": {},
   "outputs": [],
   "source": []
  }
 ],
 "metadata": {
  "kernelspec": {
   "display_name": "Julia 1.11.6",
   "language": "julia",
   "name": "julia-1.11"
  },
  "language_info": {
   "file_extension": ".jl",
   "mimetype": "application/julia",
   "name": "julia",
   "version": "1.11.6"
  }
 },
 "nbformat": 4,
 "nbformat_minor": 5
}
