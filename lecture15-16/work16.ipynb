{
 "cells": [
  {
   "cell_type": "markdown",
   "id": "42ee2626-62e7-472e-8276-6b000af93ba2",
   "metadata": {},
   "source": [
    "## Bouncing ball"
   ]
  },
  {
   "cell_type": "code",
   "execution_count": null,
   "id": "13f967f1-7e85-438f-8fcb-36d65f65eeb2",
   "metadata": {},
   "outputs": [],
   "source": [
    "\n",
    "using OrdinaryDiffEqTsit5\n",
    "using PyPlot"
   ]
  },
  {
   "cell_type": "code",
   "execution_count": null,
   "id": "76b63dea-8c62-4336-bcfa-6d4b5f9e833e",
   "metadata": {},
   "outputs": [],
   "source": [
    "# RHS of ODE\n",
    "function bouncingball!(dudtau, u, G, tau)\n",
    "    dudtau[1] = u[2]\n",
    "    dudtau[2] = -G\n",
    "    return nothing\n",
    "end"
   ]
  },
  {
   "cell_type": "markdown",
   "id": "aa535ed5-44e0-4502-b613-b98b39b0804b",
   "metadata": {},
   "source": [
    "Condition for collision: Y - sin(tau) = 0"
   ]
  },
  {
   "cell_type": "code",
   "execution_count": null,
   "id": "13c2a3d1-f9f6-49db-bd06-d5bb67785acc",
   "metadata": {},
   "outputs": [],
   "source": [
    "\n",
    "function condition(u, tau, integrator)\n",
    "  u[1] - sin(tau)\n",
    "end"
   ]
  },
  {
   "cell_type": "markdown",
   "id": "edaa8976-93e2-497a-9bf2-a522781ecba2",
   "metadata": {},
   "source": [
    "Change of ball's velocity during the collision"
   ]
  },
  {
   "cell_type": "code",
   "execution_count": null,
   "id": "1e5ab4e9-5407-4253-9db7-5af5719dc4d0",
   "metadata": {},
   "outputs": [],
   "source": [
    "\n",
    "function affect!(integrator)\n",
    "    integrator.u[2] = -integrator.u[2] + 2*cos(integrator.t)\n",
    "end"
   ]
  },
  {
   "cell_type": "code",
   "execution_count": null,
   "id": "0d7af485-2e81-4733-9080-5c10913dc32c",
   "metadata": {},
   "outputs": [],
   "source": [
    "\n",
    "cb = ContinuousCallback(condition, affect!)"
   ]
  },
  {
   "cell_type": "code",
   "execution_count": null,
   "id": "2c079673-9068-410c-8567-3817bcbf3f60",
   "metadata": {},
   "outputs": [],
   "source": [
    "\n",
    "u0 = [0.0001, 0.0]\n",
    "G = 1.0\n",
    "tspan = (0.0, 100.0)"
   ]
  },
  {
   "cell_type": "code",
   "execution_count": null,
   "id": "b6ac8eb6-7f78-4494-98dc-c14045718ec1",
   "metadata": {},
   "outputs": [],
   "source": [
    "\n",
    "prob = ODEProblem(bouncingball!, u0, tspan, G)"
   ]
  },
  {
   "cell_type": "code",
   "execution_count": null,
   "id": "67a3f8d8-31d2-4198-94a9-14f8c23bfeda",
   "metadata": {},
   "outputs": [],
   "source": [
    "\n",
    "sol = solve(prob, Tsit5(), callback=cb, dtmax=0.1)"
   ]
  },
  {
   "cell_type": "code",
   "execution_count": null,
   "id": "ecd3600d-a0ea-455d-9f5a-e10b3bbf49ef",
   "metadata": {},
   "outputs": [],
   "source": [
    "\n",
    "plot(sol.t, sol[1,:], label=\"Ball\")\n",
    "plot(sol.t, sin.(sol.t), label=\"Floor\")\n",
    "grid(true)\n",
    "xlabel(\"time\")\n",
    "ylabel(\"height\")\n",
    "legend()\n",
    "title(\"Elastic ball bouncing on an oscillating floor\");"
   ]
  },
  {
   "cell_type": "code",
   "execution_count": null,
   "id": "27c93e3c-dbeb-4766-8c26-863c114f129f",
   "metadata": {},
   "outputs": [],
   "source": [
    "\n",
    "function energy(sol, G)\n",
    "    G * sol[1, :] .+ 0.5 .* (sol[2, :]) .^ 2\n",
    "end"
   ]
  },
  {
   "cell_type": "code",
   "execution_count": null,
   "id": "7ffbe6b6-2cec-4c35-a530-1d24bdba1c9a",
   "metadata": {},
   "outputs": [],
   "source": [
    "\n",
    "en = energy(sol, G);"
   ]
  },
  {
   "cell_type": "code",
   "execution_count": null,
   "id": "b32abb4b-155f-460a-b60c-28c2902c1be7",
   "metadata": {},
   "outputs": [],
   "source": [
    "\n",
    "plot(sol.t, en)\n",
    "grid(true)\n",
    "xlabel(\"time\")\n",
    "ylabel(\"energy\")\n",
    "title(\"Elastic ball bouncing on an oscillating floor\");"
   ]
  },
  {
   "cell_type": "code",
   "execution_count": null,
   "id": "bfe93f45-b203-4d9a-a87a-daecc754ac44",
   "metadata": {},
   "outputs": [],
   "source": []
  }
 ],
 "metadata": {
  "kernelspec": {
   "display_name": "Julia 1.11.6",
   "language": "julia",
   "name": "julia-1.11"
  },
  "language_info": {
   "file_extension": ".jl",
   "mimetype": "application/julia",
   "name": "julia",
   "version": "1.11.6"
  }
 },
 "nbformat": 4,
 "nbformat_minor": 5
}
