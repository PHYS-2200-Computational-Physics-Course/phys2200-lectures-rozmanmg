{
 "cells": [
  {
   "cell_type": "markdown",
   "id": "76474b6d-ef8b-4c2e-bbd8-86e8a3362814",
   "metadata": {},
   "source": [
    "\n",
    "# Double pendulum"
   ]
  },
  {
   "cell_type": "code",
   "execution_count": null,
   "id": "431864a9-db5d-458b-99bb-7966eeb17a8e",
   "metadata": {},
   "outputs": [],
   "source": [
    "# ] add OrdinaryDiffEqTsit5"
   ]
  },
  {
   "cell_type": "code",
   "execution_count": null,
   "id": "2edc33e2-5908-414e-9ceb-4bcc2b50578c",
   "metadata": {},
   "outputs": [],
   "source": [
    "# ] add Printf"
   ]
  },
  {
   "cell_type": "code",
   "execution_count": null,
   "id": "1f5ed327-0840-4d89-8914-a0e5623f4107",
   "metadata": {},
   "outputs": [],
   "source": [
    "# ] add Colors"
   ]
  },
  {
   "cell_type": "code",
   "execution_count": null,
   "id": "1290785a-f55e-47f5-b8e8-4999c199f2c7",
   "metadata": {},
   "outputs": [],
   "source": [
    "\n",
    "using OrdinaryDiffEqTsit5"
   ]
  },
  {
   "cell_type": "code",
   "execution_count": null,
   "id": "e533001d-68ec-403b-ad77-80308d075e7b",
   "metadata": {},
   "outputs": [],
   "source": [
    "\n",
    "using Printf"
   ]
  },
  {
   "cell_type": "code",
   "execution_count": null,
   "id": "314c0657-1fda-4ad0-999f-c2a15d04a912",
   "metadata": {},
   "outputs": [],
   "source": [
    "\n",
    "using PyPlot"
   ]
  },
  {
   "cell_type": "code",
   "execution_count": null,
   "id": "d73302ce-5a61-4d50-a834-a66bf90e46d3",
   "metadata": {},
   "outputs": [],
   "source": [
    "\n",
    "using Colors"
   ]
  },
  {
   "cell_type": "code",
   "execution_count": null,
   "id": "6a437645-82b9-45d9-8504-a4aa9b35ea77",
   "metadata": {},
   "outputs": [],
   "source": [
    "\n",
    "\"\"\"\n",
    "    \n",
    "    doublependulum!(dudt, u, p, t)\n",
    "\n",
    ".......\n",
    "\"\"\"\n",
    "function doublependulum!(dudt, u, p, t)\n",
    "    # unpack variables and parameters\n",
    "    theta1 = u[1]\n",
    "    theta2 = u[2]\n",
    "    dtheta1dt = u[3]\n",
    "    dtheta2dt = u[4]\n",
    "    κ, ν = p\n",
    "    \n",
    "    sn, cs = sincos(theta1 - theta2)\n",
    "    a1 = κ*cs\n",
    "    a2 = ν*cs\n",
    "    γ = 1/(1.0 - a1*a2)\n",
    "    \n",
    "    f1 = -κ*sn*dtheta2dt^2 - sin(theta1)\n",
    "    f2 =  ν*(sn*dtheta1dt^2 - ν*sin(theta2))\n",
    "\n",
    "    dudt[1] = u[3]\n",
    "    dudt[2] = u[4]\n",
    "    dudt[3] = γ*(f1 - a1*f2)\n",
    "    dudt[4] = γ*(f2 - a2*f1)\n",
    "    \n",
    "    return nothing\n",
    "end"
   ]
  },
  {
   "cell_type": "code",
   "execution_count": null,
   "id": "148cd208-8576-415f-80ad-6721c009b5b7",
   "metadata": {},
   "outputs": [],
   "source": [
    "\n",
    "l1 = 1.0  # length of pendulum1\n",
    "l2 = 1.0  # length of pendulum2\n",
    "m1 = 1.0  # mass of pendulum1\n",
    "m2 = 1.0; # mass of pendulum2"
   ]
  },
  {
   "cell_type": "code",
   "execution_count": null,
   "id": "7a3ee320-05a7-499a-876a-dc78c14806ba",
   "metadata": {},
   "outputs": [],
   "source": [
    "\n",
    "ν = l1/l2\n",
    "κ = 1 / ν * m2 / (m1 + m2)\n",
    "# Pack the parameters\n",
    "p = (κ, ν);"
   ]
  },
  {
   "cell_type": "code",
   "execution_count": null,
   "id": "8fd27e13-128c-4298-9855-86cf93cb3cae",
   "metadata": {},
   "outputs": [],
   "source": [
    "\n",
    "tspan = (0.0, 50.0)\n",
    "initial = [pi, pi/100, 0.0, 0.0];"
   ]
  },
  {
   "cell_type": "code",
   "execution_count": null,
   "id": "4b5dd033-004a-4f81-887e-4d0235750835",
   "metadata": {},
   "outputs": [],
   "source": [
    "\n",
    "prob = ODEProblem(doublependulum!, initial, tspan, p);"
   ]
  },
  {
   "cell_type": "code",
   "execution_count": null,
   "id": "a393bbda-5076-46ed-935c-c5568b149bbf",
   "metadata": {},
   "outputs": [],
   "source": [
    "\n",
    "sol = solve(prob, Tsit5(), abstol=1e-7, reltol=1e-7);"
   ]
  },
  {
   "cell_type": "code",
   "execution_count": null,
   "id": "274a17fc-ec3d-47de-a085-64f8e1763084",
   "metadata": {},
   "outputs": [],
   "source": [
    "\n",
    "np = 2001\n",
    "t = range(tspan[1], tspan[2], np)\n",
    "sl = sol(t);"
   ]
  },
  {
   "cell_type": "code",
   "execution_count": null,
   "id": "5307eeb8-7f3a-4263-9c8c-39447b61d429",
   "metadata": {},
   "outputs": [],
   "source": [
    "\n",
    "theta1 = sl[1, :]\n",
    "theta2 = sl[2, :];"
   ]
  },
  {
   "cell_type": "code",
   "execution_count": null,
   "id": "db9f2c6f-8f7f-4f91-867c-690c449e693c",
   "metadata": {},
   "outputs": [],
   "source": [
    "\n",
    "x1 =  l1 .* sin.(theta1)\n",
    "y1 = -l1 .* cos.(theta1)\n",
    "x2 = x1 .+ l2 .* sin.(theta2)\n",
    "y2 = y1 .- l2 .* cos.(theta2);"
   ]
  },
  {
   "cell_type": "code",
   "execution_count": null,
   "id": "42fa3cb9-9b8c-4c2e-9680-834c68cf5800",
   "metadata": {},
   "outputs": [],
   "source": [
    "\n",
    "function snapshot_ft(nt, pts_disp, box, t, x1, y1, x2, y2)\n",
    "    nt_start = max(1, nt-pts_disp)\n",
    "    xl, xr, yb, yt = box\n",
    "    axis(\"square\")\n",
    "    xlim(xl, xr)\n",
    "    ylim(yb, yt)\n",
    "    titl = @sprintf(\"Double pendulum t = %5.2f .. %5.2f\",\n",
    "                    t[nt_start], t[nt])\n",
    "    title(titl, family=\"monospace\")\n",
    "    xlabel(L\"$x$\")\n",
    "    ylabel(L\"$y$\")\n",
    "    grid(true)\n",
    "\n",
    "    # pivot\n",
    "    plot(0.0, 0.0, color=\"black\", marker=\"x\", markersize=5.0)\n",
    "\n",
    "    # two rods\n",
    "    plot([0.0, x1[nt],x2[nt]], [0.0, y1[nt], y2[nt]], color=\"black\")\n",
    "\n",
    "    # mass 1\n",
    "    c1 = \"green\"\n",
    "    plot(x1[nt], y1[nt], color=c1, marker=\"o\", markersize=5.0)\n",
    "    \n",
    "    # mass 2\n",
    "    c2 = \"blue\"\n",
    "    plot(x2[nt], y2[nt], color=c2, marker=\"o\", markersize=5.0)\n",
    "\n",
    "    # fading tail trajectory of mass 2\n",
    "    c2p = parse(RGBA, c2)\n",
    "    for i = nt_start:nt-1\n",
    "        transp = 1.0 - ((nt-i-1)/(pts_disp-1))^2\n",
    "        cc = (c2p.r, c2p.g, c2p.b, transp)\n",
    "        plot([x2[i], x2[i+1]], [y2[i], y2[i+1]], color=cc, linewidth=0.5)\n",
    "    end\n",
    "    return nothing\n",
    "end;"
   ]
  },
  {
   "cell_type": "code",
   "execution_count": null,
   "id": "a062a34a-a911-4757-942d-0096977e9979",
   "metadata": {},
   "outputs": [],
   "source": [
    "\n",
    "axis_lim = (l1 + l2)*1.2\n",
    "xl = -axis_lim\n",
    "xr = -xl\n",
    "yb = -axis_lim\n",
    "yt = -yb\n",
    "box = (xl, xr, yb, yt);"
   ]
  },
  {
   "cell_type": "code",
   "execution_count": null,
   "id": "bd84b31f-c05f-4521-a79a-aabf77f5db1b",
   "metadata": {},
   "outputs": [],
   "source": [
    "\n",
    "# Define the length of the trajectory's tail\n",
    "f = 0.1                      # Fraction of displayed points\n",
    "pts_disp = round(Int, f*np)  # Number of displayed points"
   ]
  },
  {
   "cell_type": "code",
   "execution_count": null,
   "id": "bc87fbbf-e304-4ddd-b759-cf1fe181f1bc",
   "metadata": {},
   "outputs": [],
   "source": [
    "\n",
    "fig = figure()\n",
    "for nt = 1:10:np\n",
    "    snapshot_ft(nt, pts_disp, box, t, x1, y1, x2, y2)\n",
    "    display(fig)\n",
    "    IJulia.clear_output(true)\n",
    "    clf()\n",
    "end"
   ]
  },
  {
   "cell_type": "markdown",
   "id": "004abbbd-1910-484c-8c20-f4a340005dce",
   "metadata": {},
   "source": [
    "\n",
    "# Linear regression"
   ]
  },
  {
   "cell_type": "code",
   "execution_count": null,
   "id": "359f03cd-442f-4adf-b018-74881c4438d8",
   "metadata": {},
   "outputs": [],
   "source": [
    "\n",
    "\"\"\"\n",
    "    alpha, beta, sigma = linear_regression(x, y)\n",
    "\n",
    "Least square fit y = alpha + beta x. sigma is the standard error of beta\n",
    "\"\"\"\n",
    "function linear_regression(x, y)\n",
    "    np = length(x)\n",
    "    xbar = sum(x)/np\n",
    "    ybar = sum(y)/np\n",
    "    x2 = sum((xbar .- x) .^2)\n",
    "    beta = sum((xbar .- x) .* (ybar .- y)) / x2\n",
    "    alpha = ybar - beta * xbar\n",
    "    sigma = sqrt(sum((y .- alpha .- beta .* x) .^ 2)/((np - 2)*x2))\n",
    "    return alpha, beta, sigma\n",
    "end"
   ]
  },
  {
   "cell_type": "markdown",
   "id": "9fce50f3-0ce2-4127-b4a8-1b3a2dba010b",
   "metadata": {},
   "source": [
    "Test the code:"
   ]
  },
  {
   "cell_type": "code",
   "execution_count": null,
   "id": "bf4dbb9c-d253-46d6-a697-e8563c2cf09d",
   "metadata": {},
   "outputs": [],
   "source": [
    "\n",
    "xmin = 0.0\n",
    "xmax = 10.0\n",
    "np = 200\n",
    "sc = 1.5\n",
    "x = range(xmin, xmax, np)\n",
    "y = 2 .* x .+ sc .* randn(np);"
   ]
  },
  {
   "cell_type": "code",
   "execution_count": null,
   "id": "0112f1bb-fcc4-4a4c-b6f8-c11cd9066d8e",
   "metadata": {},
   "outputs": [],
   "source": [
    "\n",
    "alpha1, beta1, sigma1 = linear_regression(x, y)"
   ]
  },
  {
   "cell_type": "code",
   "execution_count": null,
   "id": "8b05322d-3a81-4107-a400-028236dd8af2",
   "metadata": {},
   "outputs": [],
   "source": [
    "\n",
    "using PyPlot"
   ]
  },
  {
   "cell_type": "code",
   "execution_count": null,
   "id": "e07b3e6f-9e1b-4937-9e3f-d82800137b6d",
   "metadata": {},
   "outputs": [],
   "source": [
    "\n",
    "plot(x, y, linestyle=\"none\", marker=\".\", label=\"noisy data\")\n",
    "plot(x, alpha1 .+ beta1 .* x, linestyle=\"solid\", label=\"linear lsq fit\")\n",
    "\n",
    "grid(true)\n",
    "xlabel(\"x\")\n",
    "ylabel(\"y\")\n",
    "title(\"Linear regression\")\n",
    "legend();"
   ]
  },
  {
   "cell_type": "code",
   "execution_count": null,
   "id": "87db01c7-9308-4f88-bb73-6354d1cc827f",
   "metadata": {},
   "outputs": [],
   "source": []
  }
 ],
 "metadata": {
  "kernelspec": {
   "display_name": "Julia 1.11.6",
   "language": "julia",
   "name": "julia-1.11"
  },
  "language_info": {
   "file_extension": ".jl",
   "mimetype": "application/julia",
   "name": "julia",
   "version": "1.11.6"
  }
 },
 "nbformat": 4,
 "nbformat_minor": 5
}
